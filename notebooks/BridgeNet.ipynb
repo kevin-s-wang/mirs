{
 "cells": [
  {
   "cell_type": "code",
   "execution_count": 24,
   "id": "31c7f3ae",
   "metadata": {},
   "outputs": [],
   "source": [
    "import os\n",
    "import sys\n",
    "sys.path.append(os.path.abspath('..'))\n",
    "\n",
    "import torch\n",
    "import torch.nn as nn\n",
    "import torch.optim as optim\n",
    "import torch.nn.functional as F\n",
    "import torch.utils.data as data\n",
    "import math\n",
    "import copy\n",
    "import open_clip"
   ]
  },
  {
   "cell_type": "code",
   "execution_count": null,
   "id": "07038ee4",
   "metadata": {},
   "outputs": [],
   "source": [
    "\n",
    "import yaml\n",
    "from abc import ABC\n",
    "\n",
    "config_filename = 'BridgeNet.yaml'\n",
    "\n",
    "class Config(ABC):\n",
    "\n",
    "    def __init__(self, config_path: str) -> None:\n",
    "        self.config_path = config_path\n",
    "        self._load()\n",
    "        self.openclip = OpenCLIPConfig(self._config.get('openclip'))\n",
    "        \n",
    "    def _load(self) -> None:\n",
    "        with open(self.config_path, 'r') as stream:\n",
    "            self._config: Dict = yaml.safe_load(stream)\n",
    "        \n",
    "\n",
    "class OpenCLIPConfig(ABC):\n",
    "    \n",
    "    @property\n",
    "    def embeddings_dim(self):\n",
    "        return self._config.get('embeddings_dim')\n",
    "    \n",
    "    @property\n",
    "    def model(self):\n",
    "        return self._config.get('model')\n",
    "    \n",
    "    @property\n",
    "    def pretrained(self):\n",
    "        return self._config.get('pretrained')\n",
    "    \n",
    "    def __init__(self, config: Dict) -> None:\n",
    "        self._config: Dict = config\n",
    "    \n",
    "\n",
    "class BridgeNet(nn.Module):\n",
    "    \n",
    "    def __init__(self, config: Config):\n",
    "        self.config = config\n",
    "        \n",
    "        "
   ]
  }
 ],
 "metadata": {
  "kernelspec": {
   "display_name": "Python 3 (ipykernel)",
   "language": "python",
   "name": "python3"
  },
  "language_info": {
   "codemirror_mode": {
    "name": "ipython",
    "version": 3
   },
   "file_extension": ".py",
   "mimetype": "text/x-python",
   "name": "python",
   "nbconvert_exporter": "python",
   "pygments_lexer": "ipython3",
   "version": "3.10.9"
  }
 },
 "nbformat": 4,
 "nbformat_minor": 5
}
